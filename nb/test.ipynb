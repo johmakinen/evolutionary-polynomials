{
 "cells": [
  {
   "cell_type": "code",
   "execution_count": 1,
   "metadata": {},
   "outputs": [],
   "source": [
    "import numpy as np"
   ]
  },
  {
   "cell_type": "code",
   "execution_count": 12,
   "metadata": {},
   "outputs": [],
   "source": [
    "def find_nearest1(array, value):\n",
    "    idx, val = min(enumerate(array), key=lambda x: abs(x[1] - value))\n",
    "    return idx\n",
    "\n",
    "\n",
    "x = np.linspace(-10, 10, 5)\n",
    "min_fill_points = 100\n",
    "filled_x = np.linspace(start=min(x), stop=max(x), num=min_fill_points)\n",
    "\n",
    "idx_filled = (\n",
    "    []\n",
    ")  # We need to keep track what points are given, and what are filled (for plotting errorbars)\n",
    "for x_ in x:\n",
    "    idx_ = find_nearest1(filled_x, x_)\n",
    "    idx_filled.append(idx_)\n",
    "    filled_x[idx_] = x_"
   ]
  },
  {
   "cell_type": "code",
   "execution_count": 16,
   "metadata": {},
   "outputs": [],
   "source": [
    "neg_error = [0, 0, 1, 0, 1]  # np.clip(np.array(y - y_line), 0, np.inf)\n",
    "pos_error = [0, -1, 0, -2, 0]  # np.abs(np.clip(np.array(y - y_line), -np.inf, 0))"
   ]
  },
  {
   "cell_type": "code",
   "execution_count": 19,
   "metadata": {},
   "outputs": [
    {
     "data": {
      "text/plain": [
       "array([ 0.,  0.,  0.,  0.,  0.,  0.,  0.,  0.,  0.,  0.,  0.,  0.,  0.,\n",
       "        0.,  0.,  0.,  0.,  0.,  0.,  0.,  0.,  0.,  0.,  0.,  0., -1.,\n",
       "        0.,  0.,  0.,  0.,  0.,  0.,  0.,  0.,  0.,  0.,  0.,  0.,  0.,\n",
       "        0.,  0.,  0.,  0.,  0.,  0.,  0.,  0.,  0.,  0.,  0.,  0.,  0.,\n",
       "        0.,  0.,  0.,  0.,  0.,  0.,  0.,  0.,  0.,  0.,  0.,  0.,  0.,\n",
       "        0.,  0.,  0.,  0.,  0.,  0.,  0.,  0.,  0., -2.,  0.,  0.,  0.,\n",
       "        0.,  0.,  0.,  0.,  0.,  0.,  0.,  0.,  0.,  0.,  0.,  0.,  0.,\n",
       "        0.,  0.,  0.,  0.,  0.,  0.,  0.,  0.,  0.])"
      ]
     },
     "execution_count": 19,
     "metadata": {},
     "output_type": "execute_result"
    }
   ],
   "source": [
    "idx_filled\n",
    "filled_neg_error = np.zeros(len(filled_x))\n",
    "filled_neg_error[idx_filled] = neg_error\n",
    "\n",
    "filled_pos_error = np.zeros(len(filled_x))\n",
    "filled_pos_error[idx_filled] = pos_error\n",
    "\n",
    "filled_pos_error"
   ]
  },
  {
   "cell_type": "code",
   "execution_count": null,
   "metadata": {},
   "outputs": [],
   "source": []
  }
 ],
 "metadata": {
  "kernelspec": {
   "display_name": "genetic_lr",
   "language": "python",
   "name": "python3"
  },
  "language_info": {
   "codemirror_mode": {
    "name": "ipython",
    "version": 3
   },
   "file_extension": ".py",
   "mimetype": "text/x-python",
   "name": "python",
   "nbconvert_exporter": "python",
   "pygments_lexer": "ipython3",
   "version": "3.11.4"
  }
 },
 "nbformat": 4,
 "nbformat_minor": 2
}
